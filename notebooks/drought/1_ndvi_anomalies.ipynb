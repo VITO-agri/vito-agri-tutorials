{
 "cells": [
  {
   "cell_type": "markdown",
   "metadata": {},
   "source": [
    "# Computing NDVI anomalies\n",
    "\n",
    "In this exercise we download 1 km NDVI data for one or several points and compute NDVI anomalies.\n",
    "\n",
    "The NDVI data is sourced from the Copernicus Global Land NDVI collection, available on the [Copernicus Data Space Ecosystem](https://dataspace.copernicus.eu/):\n",
    "\n",
    "- [1999 - 2020 1 km NDVI CGLS collection](https://land.copernicus.eu/en/products/vegetation/normalised-difference-vegetation-index-v3-0-1km)\n",
    "- [2020 - present 300 m NDVI CGLS collection](https://land.copernicus.eu/en/products/vegetation/normalised-difference-vegetation-index-v2-0-300m)\n",
    "\n",
    "Product download is accomplished through the [OpenEO](https://openeo.org) processing framework."
   ]
  },
  {
   "cell_type": "markdown",
   "metadata": {},
   "source": [
    "Before we start, we need to install some required python packages:"
   ]
  },
  {
   "cell_type": "code",
   "execution_count": null,
   "metadata": {},
   "outputs": [],
   "source": [
    "!pip install ipykernel ipyleaflet geopandas geojson --quiet"
   ]
  },
  {
   "cell_type": "code",
   "execution_count": null,
   "metadata": {},
   "outputs": [],
   "source": [
    "# Use the interactive widget to draw a point on the map.\n",
    "# Once you drew a point, enter a name for the point in the text box below the map.\n",
    "# Then click the \"submit\" button to save the point to the database.\n",
    "\n",
    "from vito_agri_tutorials.utils.map import ui_map\n",
    "\n",
    "map = ui_map(geometry_type='point')"
   ]
  },
  {
   "cell_type": "code",
   "execution_count": null,
   "metadata": {},
   "outputs": [],
   "source": [
    "# We retrieve the points from the map and store it in a .gpkg file\n",
    "# Feel free to change the filename (out_filename) to your liking.\n",
    "\n",
    "# Set output directory\n",
    "from pathlib import Path\n",
    "result_dir = Path('./results')\n",
    "result_dir.mkdir(parents=True, exist_ok=True)\n",
    "\n",
    "# Retrieve points from the map\n",
    "points = map.get_objects()\n",
    "\n",
    "# Save points to a file\n",
    "out_filename = '1_ndvi_points.gpkg'\n",
    "outfile = result_dir / out_filename\n",
    "points.to_file(outfile, driver='GPKG')"
   ]
  },
  {
   "cell_type": "code",
   "execution_count": null,
   "metadata": {},
   "outputs": [],
   "source": [
    "# Now we start extractions of NDVI data for our point(s). We will extract 2017 - 2024.\n",
    "# Again, feel free to change the name of the output directory (ndvi_dir_name) to your liking.\n",
    "\n",
    "from vito_agri_tutorials.openeo.extract_data import get_ndvi_1km_point\n",
    "\n",
    "start_date = '2018-01-01'\n",
    "end_date = '2024-12-31'\n",
    "\n",
    "ndvi_dir_name = 'ndvi_morocco'\n",
    "ndvi_dir = result_dir / ndvi_dir_name\n",
    "\n",
    "df = get_ndvi_1km_point(points, start_date, end_date, ndvi_dir)\n",
    "df.plot()\n",
    "print(df)"
   ]
  },
  {
   "cell_type": "code",
   "execution_count": null,
   "metadata": {},
   "outputs": [],
   "source": [
    "# Here we show how to compute anomalies for one of the extracted points.\n",
    "# Make sure to change the value of \"point_id\" to the id of the point you want to compute anomalies for.\n",
    "\n",
    "from vito_agri_tutorials.utils.anomalies import compute_anomalies\n",
    "\n",
    "nyears = 7\n",
    "ref_period = 5\n",
    "label_years = [\"2023\", \"2024\"]\n",
    "\n",
    "point_id = \"maroc\"\n",
    "\n",
    "ndvi = df[point_id].values\n",
    "\n",
    "diff, rel_an, std_an, vci = compute_anomalies(\n",
    "    ndvi,\n",
    "    nyears,\n",
    "    ref_period,\n",
    "    label_years)"
   ]
  }
 ],
 "metadata": {
  "kernelspec": {
   "display_name": "vito-agri",
   "language": "python",
   "name": "python3"
  },
  "language_info": {
   "codemirror_mode": {
    "name": "ipython",
    "version": 3
   },
   "file_extension": ".py",
   "mimetype": "text/x-python",
   "name": "python",
   "nbconvert_exporter": "python",
   "pygments_lexer": "ipython3",
   "version": "3.11.11"
  }
 },
 "nbformat": 4,
 "nbformat_minor": 2
}
