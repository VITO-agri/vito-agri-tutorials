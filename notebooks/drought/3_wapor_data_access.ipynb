{
 "cells": [
  {
   "cell_type": "markdown",
   "metadata": {},
   "source": [
    "# Accessing FAO WaPOR data\n",
    "\n",
    "In this exercise we look into downloading Precipitation, Evapotranspiration and biomass production data for a region from the global WaPOR database.\n",
    "\n",
    "More information on WaPOR: https://www.fao.org/in-action/remote-sensing-for-water-productivity/project/en\n",
    "\n",
    "WaPOR data portal: https://data.apps.fao.org/wapor/?lang=en"
   ]
  },
  {
   "cell_type": "markdown",
   "metadata": {},
   "source": [
    "Before we start, we need to install some required python packages."
   ]
  },
  {
   "cell_type": "code",
   "execution_count": null,
   "metadata": {},
   "outputs": [],
   "source": [
    "!pip install ipykernel ipyleaflet geopandas geojson --quiet"
   ]
  },
  {
   "cell_type": "markdown",
   "metadata": {},
   "source": [
    "The following cell ensures a correct download of the data from Google Cloud Storage."
   ]
  },
  {
   "cell_type": "code",
   "execution_count": null,
   "metadata": {},
   "outputs": [],
   "source": [
    "import os\n",
    "os.environ['GS_NO_SIGN_REQUEST'] = 'YES'"
   ]
  },
  {
   "cell_type": "code",
   "execution_count": null,
   "metadata": {},
   "outputs": [],
   "source": [
    "# Available data in WaPOR v3:\n",
    "\n",
    "import pandas as pd\n",
    "from vito_agri_tutorials.fao.wapor import WAPOR3_SUPPORTED_VARIABLES\n",
    "\n",
    "df_vars = pd.DataFrame.from_dict(WAPOR3_SUPPORTED_VARIABLES)\n",
    "df_vars = df_vars.transpose()\n",
    "df_vars"
   ]
  },
  {
   "cell_type": "code",
   "execution_count": null,
   "metadata": {},
   "outputs": [],
   "source": [
    "# Get your polygon of interest based on the previous exercise\n",
    "\n",
    "# NOTE: To be able to request PCP data, your polygon needs to cover at least one 5x5 km grid cell.\n",
    "\n",
    "from pathlib import Path\n",
    "import geopandas as gpd\n",
    "\n",
    "in_dir = Path('./results/asis')\n",
    "infile = in_dir / 'polygon_wapor.gpkg'\n",
    "gdf = gpd.read_file(infile)\n",
    "gdf\n",
    "\n",
    "## OR use the following code to draw a polygon on the map\n",
    "# from vito_agri_tutorials.utils.map import ui_map\n",
    "# map = ui_map(geometry_type='polygon')\n",
    "## Execute this in a next cell\n",
    "# gdf = map.get_objects()\n",
    "# gdf\n",
    " "
   ]
  },
  {
   "cell_type": "code",
   "execution_count": null,
   "metadata": {},
   "outputs": [],
   "source": [
    "# Get precipitation data for the polygon\n",
    "\n",
    "#NOTE: PCP data comes in its original resolution of 5 km x 5 km grid cells.\n",
    "\n",
    "from vito_agri_tutorials.fao.wapor import extract_wapor_data, compute_area_stats, plot_stats\n",
    "\n",
    "out_dir = Path('./results/wapor')\n",
    "\n",
    "variable = \"L1-PCP-D\"\n",
    "start_date = '2022-01-01'\n",
    "end_date = '2024-12-31'\n",
    "write_tif = True\n",
    "\n",
    "pcp = extract_wapor_data(variable,\n",
    "                         gdf,\n",
    "    out_dir,\n",
    "    start_date,\n",
    "    end_date=end_date,\n",
    "    write_tif=write_tif,\n",
    "    debug=True,)\n",
    "\n",
    "pcp_stats = compute_area_stats(pcp)\n",
    "pcp_mean = plot_stats(pcp_stats, variable, \"mean\")\n"
   ]
  },
  {
   "cell_type": "code",
   "execution_count": null,
   "metadata": {},
   "outputs": [],
   "source": [
    "# Get AETI data for the polygon\n",
    "\n",
    "from vito_agri_tutorials.fao.wapor import extract_wapor_data, compute_area_stats, plot_stats\n",
    "\n",
    "out_dir = Path('./results/wapor')\n",
    "\n",
    "variable = \"L1-AETI-D\"\n",
    "start_date = '2022-01-01'\n",
    "end_date = '2024-12-31'\n",
    "write_tif = True\n",
    "\n",
    "aeti = extract_wapor_data(variable,\n",
    "                         gdf,\n",
    "    out_dir,\n",
    "    start_date,\n",
    "    end_date=end_date,\n",
    "    write_tif=write_tif,\n",
    "    debug=True,)\n",
    "\n",
    "aeti_stats = compute_area_stats(aeti)\n",
    "aeti_mean = plot_stats(aeti_stats, variable, \"mean\")"
   ]
  },
  {
   "cell_type": "code",
   "execution_count": null,
   "metadata": {},
   "outputs": [],
   "source": [
    "# Plot PCP and AETI data together\n",
    "\n",
    "import matplotlib.pyplot as plt\n",
    "fig, ax = plt.subplots(1, figsize=(10, 5))\n",
    "pcp_mean.plot(ax=ax, label='PCP', color='blue', kind='line')\n",
    "aeti_mean.plot(ax=ax, label='AETI', color='red', kind='line')\n",
    "plt.title('PCP and AETI data')\n",
    "ax.set_xlabel('Date')\n",
    "ax.set_ylabel('mm/day')\n",
    "ax.legend(labels=['AETI', 'PCP'])\n",
    "plt.show()\n",
    "\n",
    "# Now also try plotting the NPP timeseries in green on the same plot..."
   ]
  },
  {
   "cell_type": "code",
   "execution_count": null,
   "metadata": {},
   "outputs": [],
   "source": [
    "# Get total biomass production data for the polygon\n",
    "\n",
    "from vito_agri_tutorials.fao.wapor import extract_wapor_data, compute_area_stats, plot_stats\n",
    "\n",
    "out_dir = Path('./results/wapor')\n",
    "\n",
    "variable = \"L1-TBP-A\"\n",
    "start_date = '2022-01-01'\n",
    "end_date = '2024-12-31'\n",
    "write_tif = True\n",
    "\n",
    "tbp = extract_wapor_data(variable,\n",
    "                         gdf,\n",
    "    out_dir,\n",
    "    start_date,\n",
    "    end_date=end_date,\n",
    "    write_tif=write_tif,\n",
    "    debug=True,)\n",
    "\n",
    "tbp_stats = compute_area_stats(tbp)\n",
    "tbp_mean = plot_stats(tbp_stats, variable, \"mean\", plot=False)"
   ]
  },
  {
   "cell_type": "code",
   "execution_count": null,
   "metadata": {},
   "outputs": [],
   "source": [
    "from matplotlib import pyplot as plt\n",
    "\n",
    "figs, ax = plt.subplots(1, figsize=(12, 6))\n",
    "\n",
    "tbp_mean['test'].plot.bar(ax=ax, label='TBP', color='green')\n",
    "plt.title('Total Biomass Production')\n",
    "ax.set_xlabel('Date')\n",
    "ax.set_ylabel('kg/ha')\n"
   ]
  }
 ],
 "metadata": {
  "kernelspec": {
   "display_name": "vito-agri",
   "language": "python",
   "name": "python3"
  },
  "language_info": {
   "codemirror_mode": {
    "name": "ipython",
    "version": 3
   },
   "file_extension": ".py",
   "mimetype": "text/x-python",
   "name": "python",
   "nbconvert_exporter": "python",
   "pygments_lexer": "ipython3",
   "version": "3.11.11"
  }
 },
 "nbformat": 4,
 "nbformat_minor": 2
}
