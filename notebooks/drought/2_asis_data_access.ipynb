{
 "cells": [
  {
   "cell_type": "markdown",
   "metadata": {},
   "source": [
    "# Accessing FAO ASIS data\n",
    "\n",
    "In this exercise we download the Vegetation Health Index (VHI) and Agricultural Stress Index (ASI) for an administrative region and identify the specific areas most impacted by drought.\n",
    "\n",
    "More information on ASIS: https://www.fao.org/giews/earthobservation/index.jsp?lang=en"
   ]
  },
  {
   "cell_type": "code",
   "execution_count": null,
   "metadata": {},
   "outputs": [],
   "source": [
    "!pip install ipykernel ipyleaflet geopandas geojson --quiet"
   ]
  },
  {
   "cell_type": "markdown",
   "metadata": {},
   "source": [
    "The following cell ensures a correct download of the data from Google Cloud Storage."
   ]
  },
  {
   "cell_type": "code",
   "execution_count": null,
   "metadata": {},
   "outputs": [],
   "source": [
    "import os\n",
    "os.environ['GS_NO_SIGN_REQUEST'] = 'YES'"
   ]
  },
  {
   "cell_type": "code",
   "execution_count": null,
   "metadata": {},
   "outputs": [],
   "source": [
    "# Available data in ASIS:\n",
    "\n",
    "from vito_agri_tutorials.fao.asis import ASIS_SUPPORTED_VARIABLES\n",
    "import pandas as pd\n",
    "\n",
    "df_vars = pd.DataFrame.from_dict(ASIS_SUPPORTED_VARIABLES, orient='index', columns=['Description'])\n",
    "df_vars"
   ]
  },
  {
   "cell_type": "code",
   "execution_count": null,
   "metadata": {},
   "outputs": [],
   "source": [
    "# Using this widget, you can select an administrave region from a list of available regions in a country.\n",
    "# Select a country first.\n",
    "# Then select a state from the list of states in the selected country.\n",
    "# Hit the \"Add to selection\" button to add the selected state to your selection.\n",
    "\n",
    "# Select one or two states from one country and add them to your selection.\n",
    "\n",
    "from vito_agri_tutorials.utils.map import RegionPicker\n",
    "\n",
    "region_picker = RegionPicker()"
   ]
  },
  {
   "cell_type": "code",
   "execution_count": null,
   "metadata": {},
   "outputs": [],
   "source": [
    "# In this cell we extract the geometries from the selected states.\n",
    "\n",
    "gdf = region_picker.selection_to_gdf(level=1)\n",
    "gdf"
   ]
  },
  {
   "cell_type": "code",
   "execution_count": null,
   "metadata": {},
   "outputs": [],
   "source": [
    "# We extract the timeseries of dekadal ASI data for the selected states.\n",
    "\n",
    "from pathlib import Path\n",
    "from vito_agri_tutorials.fao.asis import extract_asis_data\n",
    "\n",
    "out_dir = Path('./results/asis')\n",
    "\n",
    "variable = \"ASI-D\"\n",
    "start_date = '2022-01-01'\n",
    "end_date = '2024-12-31'\n",
    "# We need to specify a season (1 or 2) and a landcover type (C(ropland) or G(rassland)) for the ASI data.\n",
    "season = 1\n",
    "landcover = \"C\"\n",
    "write_tif = True\n",
    "\n",
    "asi = extract_asis_data(\n",
    "    variable,\n",
    "    gdf,\n",
    "    out_dir,\n",
    "    start_date=start_date,\n",
    "    end_date=end_date,\n",
    "    season=season,\n",
    "    landcover=landcover,\n",
    "    write_tif=write_tif,\n",
    "    debug=True,)"
   ]
  },
  {
   "cell_type": "code",
   "execution_count": null,
   "metadata": {},
   "outputs": [],
   "source": [
    "# The .tif files were automatically downloaded to your out_dir. You can inspect them in QGIS.\n",
    "# Now, we compute area statistics for the selected states and plot the average values across the entire states.\n",
    "\n",
    "from vito_agri_tutorials.fao.asis import compute_area_stats, plot_stats\n",
    "\n",
    "asi_stats = compute_area_stats(asi)\n",
    "asi_stats = plot_stats(asi_stats, variable, \"mean\")\n",
    "asi_stats"
   ]
  },
  {
   "cell_type": "code",
   "execution_count": null,
   "metadata": {},
   "outputs": [],
   "source": [
    "# We extract the timeseries of dekadal VHI index values for the selected states.\n",
    "\n",
    "from pathlib import Path\n",
    "from vito_agri_tutorials.fao.asis import extract_asis_data\n",
    "\n",
    "out_dir = Path('./results/asis')\n",
    "\n",
    "variable = \"VHI-D\"\n",
    "start_date = '2022-01-01'\n",
    "end_date = '2024-12-31'\n",
    "# No need to specify season or landcover for the VHI data.\n",
    "season = None\n",
    "landcover = None\n",
    "write_tif = True\n",
    "\n",
    "vhi = extract_asis_data(\n",
    "    variable,\n",
    "    gdf,\n",
    "    out_dir,\n",
    "    start_date=start_date,\n",
    "    end_date=end_date,\n",
    "    season=season,\n",
    "    landcover=landcover,\n",
    "    write_tif=write_tif,\n",
    "    debug=True,)"
   ]
  },
  {
   "cell_type": "code",
   "execution_count": null,
   "metadata": {},
   "outputs": [],
   "source": [
    "# Again, we compute the mean statistics of VHI over the entire region.\n",
    "\n",
    "from vito_agri_tutorials.fao.asis import compute_area_stats, plot_stats\n",
    "\n",
    "vhi_stats = compute_area_stats(vhi)\n",
    "vhi_stats = plot_stats(vhi_stats, variable, \"mean\")\n",
    "vhi_stats"
   ]
  },
  {
   "cell_type": "code",
   "execution_count": null,
   "metadata": {},
   "outputs": [],
   "source": [
    "# Plot the VHI and ASI time series on the same figure for one of the selected states.\n",
    "\n",
    "import matplotlib.pyplot as plt\n",
    "\n",
    "state = \"Southern\"\n",
    "\n",
    "# join the two relevant columns of a dataframe\n",
    "df_vhi_asi = vhi_stats[[state]].join(asi_stats[[state]], lsuffix='_VHI', rsuffix='_ASI')\n",
    "# rename the columns\n",
    "df_vhi_asi.columns = ['mean_VHI', 'mean_ASI']\n",
    "\n",
    "# Plot both variables on same figure\n",
    "figs, ax1 = plt.subplots(1, figsize=(12, 6))\n",
    "df_vhi_asi['mean_VHI'].plot(ax=ax1, label='VHI',color='blue')\n",
    "ax2 = ax1.twinx()\n",
    "df_vhi_asi['mean_ASI'].plot(ax=ax2, label='ASI',color=\"orange\")\n",
    "\n",
    "ax1.set_ylabel('Vegetation Health Index [-]')\n",
    "ax1.legend(loc='upper left', ncol=5)\n",
    "ax1.set_title('Comparison VHI & ASI time series')\n",
    "\n",
    "# Set limits for both axes\n",
    "ax2.set_ylabel('Agricultural Stress Index [%]')\n",
    "ax2.legend(loc='upper right', ncol=5)"
   ]
  },
  {
   "cell_type": "code",
   "execution_count": null,
   "metadata": {},
   "outputs": [],
   "source": [
    "# Download MVHI accumulated over entire growing season (MVHI-A)\n",
    "# --> this can be used to check which individual pixels have suffered the most from the drought...\n",
    "\n",
    "from pathlib import Path\n",
    "from vito_agri_tutorials.fao.asis import extract_asis_data\n",
    "\n",
    "out_dir = Path('./results/asis')\n",
    "\n",
    "variable = \"MVHI-A\"\n",
    "start_date = '2022-01-01'\n",
    "end_date = '2024-12-31'\n",
    "season = 1\n",
    "landcover = \"C\"\n",
    "sub_variable = None\n",
    "write_tif = True\n",
    "\n",
    "\n",
    "mvhi = extract_asis_data(variable,\n",
    "                         gdf,\n",
    "    out_dir,\n",
    "    start_date=start_date,\n",
    "    end_date=end_date,\n",
    "    season=season,\n",
    "    landcover=landcover,\n",
    "    sub_variable=sub_variable,\n",
    "    write_tif=write_tif,\n",
    "    debug=True,)"
   ]
  },
  {
   "cell_type": "code",
   "execution_count": null,
   "metadata": {},
   "outputs": [],
   "source": [
    "# To get an idea how many people are directly affected by the drought, we can use the WPOP database.\n",
    "from vito_agri_tutorials.fao.wpop import WPOP_SUPPORTED_VARIABLES\n",
    "import pandas as pd\n",
    "\n",
    "df_vars = pd.DataFrame.from_dict(WPOP_SUPPORTED_VARIABLES)\n",
    "df_vars = df_vars.transpose()\n",
    "df_vars"
   ]
  },
  {
   "cell_type": "code",
   "execution_count": null,
   "metadata": {},
   "outputs": [],
   "source": [
    "# Download population count data for the selected states.\n",
    "\n",
    "from pathlib import Path\n",
    "from vito_agri_tutorials.fao.wpop import extract_wpop_data\n",
    "\n",
    "variable = \"WPOP-T\"\n",
    "\n",
    "out_dir = Path('./results/wpop')\n",
    "\n",
    "# WPOP data only available between 2000 and 2020\n",
    "start_date = '2020-01-01'\n",
    "\n",
    "wpop = extract_wpop_data(\n",
    "    variable,\n",
    "    gdf,\n",
    "    out_dir,\n",
    "    start_date,\n",
    "    write_tif=True,\n",
    "    debug=True,\n",
    ")"
   ]
  },
  {
   "cell_type": "code",
   "execution_count": null,
   "metadata": {},
   "outputs": [],
   "source": [
    "# Compute total number of people in the state:\n",
    "\n",
    "from vito_agri_tutorials.fao.wpop import compute_area_stats\n",
    "\n",
    "wpop_stats = compute_area_stats(wpop)\n",
    "wpop_stats"
   ]
  }
 ],
 "metadata": {
  "kernelspec": {
   "display_name": "vito-agri",
   "language": "python",
   "name": "python3"
  },
  "language_info": {
   "codemirror_mode": {
    "name": "ipython",
    "version": 3
   },
   "file_extension": ".py",
   "mimetype": "text/x-python",
   "name": "python",
   "nbconvert_exporter": "python",
   "pygments_lexer": "ipython3",
   "version": "3.11.11"
  }
 },
 "nbformat": 4,
 "nbformat_minor": 2
}
